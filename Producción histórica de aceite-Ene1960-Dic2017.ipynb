{
 "cells": [
  {
   "cell_type": "markdown",
   "metadata": {},
   "source": [
    "# Producción histórica de aceite en México: 1960-2017"
   ]
  },
  {
   "cell_type": "markdown",
   "metadata": {},
   "source": [
    "** Actualización de gráficas de la producción histórica de aceite en México de Enero de 1960 a Diciembre de 2017 (Gráfica 1), y de Enero de 2000 a Diciembre de 2017 (Gráfica 2) señalando como referencia los diferentes [sexenios presidenciales](http://presidentes.mx/).** \n",
    "**La actualización se realizo en base a las gráficas hechas por el Ing. Douglas Alberto Gómez Reyes sobre la [Produccion histórica de aceite en el periodo Enero 1960-Diciembre 2017](https://github.com/douglasgomezr/utileria_eyp/blob/master/Producci%C3%B3n%20hist%C3%B3rica%20de%20aceite-Ene1960-Sep2017.ipynb).**\n",
    "\n",
    "**Datos extraidos de la  [Comisión Nacional de Información de Hidrocarburos](https://portal.cnih.cnh.gob.mx/dashboards.php).** "
   ]
  },
  {
   "cell_type": "code",
   "execution_count": null,
   "metadata": {},
   "outputs": [],
   "source": [
    "% matplotlib inline \n",
    "import matplotlib.pyplot as plt\n",
    "import pandas as pd\n",
    "import numpy as np"
   ]
  },
  {
   "cell_type": "markdown",
   "metadata": {},
   "source": [
    "**Importar datos y agrupar los datos** "
   ]
  },
  {
   "cell_type": "code",
   "execution_count": null,
   "metadata": {},
   "outputs": [],
   "source": [
    "prod = pd.read_csv('Produccion_1960Ene-2017Dic.csv')"
   ]
  },
  {
   "cell_type": "code",
   "execution_count": null,
   "metadata": {},
   "outputs": [],
   "source": [
    "prod.columns"
   ]
  },
  {
   "cell_type": "code",
   "execution_count": null,
   "metadata": {},
   "outputs": [],
   "source": [
    "print ('tipo', type(prod))"
   ]
  },
  {
   "cell_type": "code",
   "execution_count": null,
   "metadata": {},
   "outputs": [],
   "source": [
    "aceite = prod ['ACEITE_MBD']\n",
    "gas = prod['GAS_MMPCD']\n",
    "print ('aceite', type(aceite), 'gas', type(gas))"
   ]
  },
  {
   "cell_type": "markdown",
   "metadata": {},
   "source": [
    "**Gráfica 1.- Producción histórica 1960-2017**"
   ]
  },
  {
   "cell_type": "code",
   "execution_count": null,
   "metadata": {},
   "outputs": [],
   "source": [
    "plt.figure(figsize=[18,7])\n",
    "plt.style.use('bmh')\n",
    "\n",
    "plt.plot(aceite, '-' , color = 'k', alpha = 0.9 , lw = 0.7 )\n",
    "\n",
    "plt.fill_between(prod.index,0,aceite,facecolor='green',label='Producción total')\n",
    "\n",
    "#plt.legend(loc='upper right', fontsize='medium', frameon=False)\n",
    "\n",
    "plt.xticks( [0, 59, 119, 178, 238, 298, 358, 418, 478, 538, 598, 658],\n",
    "           ['1960', '1965', '1970', '1975', '1980' , '1985', '1990', '1995', '2000', '2005', '2010', '2015'], \n",
    "               rotation=60, color='k')\n",
    "plt.yticks( [0, 400, 800, 1200, 1600, 2000, 2400, 2800, 3200, 3600, 4000],\n",
    "           ['0', '0.4', '0.8', '1.2', '1.6' , '2.0', '2.4', '2.8', '3.2', '3.6', '4.0'], rotation=20, color='k')\n",
    "\n",
    "plt.grid(color='blue', alpha=0.4)\n",
    "\n",
    "plt.xlabel('Años', color='k', fontsize='x-large')\n",
    "\n",
    "plt.ylabel('Miles de millones de barriles diarios', fontsize='x-large', color='k')\n",
    "\n",
    "plt.xlim(0,697)\n",
    "plt.ylim(0,4000)\n",
    "\n",
    "plt.title('Producción Mexicana de Petróleo de Enero 1960 a Dicimbre 2017', fontsize='x-large', color='black')\n",
    "\n",
    "#Fechas con las iniciales de los presidentes de México de 1960 a 2017 \n",
    "\n",
    "plt.annotate('EPN', xy=(635,2576.806), xytext=(635, 3000), arrowprops=dict(facecolor='#990000'), fontsize='small')\n",
    "plt.annotate('FCH', xy=(563,2978.22), xytext=(563, 2500), arrowprops=dict(facecolor='#990000'),fontsize='small')\n",
    "plt.annotate('VFQ', xy=(491,3042.749), xytext=(520, 2850), arrowprops=dict(facecolor='#990000'),fontsize='small')\n",
    "plt.annotate('EZP', xy=(419,2673.437), xytext=(419, 3100), arrowprops=dict(facecolor='#990000'),fontsize='small')\n",
    "plt.annotate('CSG', xy=(347,2529.39), xytext=(347, 2950), arrowprops=dict(facecolor='#990000'),fontsize='small')\n",
    "plt.annotate('MMH', xy=(275,3023.397), xytext=(275, 3450), arrowprops=dict(facecolor='#990000'),fontsize='small')\n",
    "plt.annotate('JLP', xy=(203,844.401), xytext=(230, 500), arrowprops=dict(facecolor='#990000'),fontsize='small')\n",
    "plt.annotate('LEA', xy=(131,430.983), xytext=(131, 850), arrowprops=dict(facecolor='#990000'),fontsize='small')\n",
    "plt.annotate('GDO', xy=(59,317.542), xytext=(59, 700), arrowprops=dict(facecolor='#990000'),fontsize='small')\n",
    "\n",
    "\n",
    "#plt.savefig('ProduccionPEMEX_historica01.png', dpi=400 )\n",
    "\n",
    "plt.show()"
   ]
  },
  {
   "cell_type": "markdown",
   "metadata": {},
   "source": [
    "**Gráfica 2.- Producción histórica 2001-2017**\n",
    "\n",
    "Gráfica de la producción histórica de aceite en México de Enero  2000 a Diciembre de 2017, señalando  los últimos tres sexenios presidenciales."
   ]
  },
  {
   "cell_type": "code",
   "execution_count": null,
   "metadata": {},
   "outputs": [],
   "source": [
    "plt.figure(figsize=[18,7])\n",
    "plt.style.use('bmh')\n",
    "\n",
    "plt.plot(aceite[482:697], '-' , color = 'k', alpha = 0.9 , lw = 0.7 )\n",
    "\n",
    "plt.fill_between(prod.index[482:697],0,aceite[482:697],facecolor='green',label='Producción total')\n",
    "\n",
    "#plt.legend(loc='upper right', fontsize='medium', frameon=False)\n",
    "\n",
    "plt.xticks( [480, 492, 504, 516, 528, 540, 552, 564, 576, 588, 600, 612, 624, 636, 648, 660, 672, 684],\n",
    "           ['2000', '2001', '2002', '2003', '2004',  '2005', '2006', '2007', '2008', '2009', '2010', '2011', '2012', '2013',\n",
    "            '2014', '2015', '2016', '2017'], \n",
    "               rotation=60, color='k')\n",
    "plt.yticks( [0, 400, 800, 1200, 1600, 2000, 2400, 2800, 3200, 3600, 4000],\n",
    "           ['0', '0.4', '0.8', '1.2', '1.6' , '2.0', '2.4', '2.8', '3.2', '3.6', '4.0'], rotation=20, color='k')\n",
    "\n",
    "plt.grid(color='blue', alpha=0.4)\n",
    "\n",
    "plt.xlabel('Años', color='k', fontsize='x-large')\n",
    "\n",
    "plt.ylabel('Miles de millones de barriles diarios', fontsize='x-large', color='k')\n",
    "\n",
    "plt.xlim(482,697)\n",
    "plt.ylim(1600, 3800)\n",
    "\n",
    "plt.title('Producción Mexicana de Petróleo de Enero 2000 a Diciembre 2017', fontsize='x-large', color='black')\n",
    "\n",
    "#Fechas con las iniciales de los presidentes de México de 1960 a 2017 \n",
    "\n",
    "plt.annotate('EPN', xy=(635,2564.328), xytext=(635, 2300), arrowprops=dict(facecolor='#990000'), fontsize='small')\n",
    "plt.annotate('FCH', xy=(563,2978.22), xytext=(563, 2700), arrowprops=dict(facecolor='#990000'),fontsize='small')\n",
    "plt.annotate('VFQ', xy=(491,3042.749), xytext=(495, 2850), arrowprops=dict(facecolor='#990000'),fontsize='small')\n",
    "plt.annotate('1877.14', xy=(697,1877.14), xytext=(697, 1900), arrowprops=dict(facecolor='k'),fontsize='small')\n",
    "plt.annotate('Máx hist-3.455', xy=(527,3454.771), xytext=(527, 3600), arrowprops=dict(facecolor='k'),fontsize='small')\n",
    "\n",
    "\n",
    "#plt.savefig('ProduccionPEMEX_historica02.png', dpi=400 )\n",
    "\n",
    "plt.show()"
   ]
  },
  {
   "cell_type": "code",
   "execution_count": null,
   "metadata": {},
   "outputs": [],
   "source": [
    "max(aceite)\n"
   ]
  },
  {
   "cell_type": "code",
   "execution_count": null,
   "metadata": {},
   "outputs": [],
   "source": [
    "np.where(aceite == aceite.max())"
   ]
  },
  {
   "cell_type": "code",
   "execution_count": null,
   "metadata": {},
   "outputs": [],
   "source": []
  }
 ],
 "metadata": {
  "kernelspec": {
   "display_name": "Python 3",
   "language": "python",
   "name": "python3"
  },
  "language_info": {
   "codemirror_mode": {
    "name": "ipython",
    "version": 3
   },
   "file_extension": ".py",
   "mimetype": "text/x-python",
   "name": "python",
   "nbconvert_exporter": "python",
   "pygments_lexer": "ipython3",
   "version": "3.6.4"
  }
 },
 "nbformat": 4,
 "nbformat_minor": 2
}
