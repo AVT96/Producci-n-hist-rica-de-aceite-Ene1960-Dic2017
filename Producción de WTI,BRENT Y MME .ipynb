{
 "cells": [
  {
   "cell_type": "markdown",
   "metadata": {},
   "source": [
    "**Gráfica Anual Precio del Petróleo WTI,Brent y Mezcla Mexicana(MME) 2005-2017.**\n",
    "\n",
    "**Datos extraidos del [Servicio Geológico Mexicano(SGM)](http://www.sgm.gob.mx/Web/SINEM/energeticos/wti_brent_mme.html).**"
   ]
  },
  {
   "cell_type": "markdown",
   "metadata": {},
   "source": [
    "**Importe y agrupamiento de datos**."
   ]
  },
  {
   "cell_type": "code",
   "execution_count": null,
   "metadata": {},
   "outputs": [],
   "source": [
    "% matplotlib inline \n",
    "import matplotlib.pyplot as plt\n",
    "import pandas as pd\n",
    "import numpy as np\n",
    "\n",
    "prod = pd.read_csv('Precio Petroleo-2005-2017.csv')\n",
    "prod.columns\n",
    "print ('tipo', type(prod))\n",
    "WTI = prod ['WTI']\n",
    "BRENT = prod['BRENT']\n",
    "MME = prod['MME']\n",
    "print ('WTI', type(WTI), 'BRENT', type(BRENT), 'MME', type('MME'))"
   ]
  },
  {
   "cell_type": "markdown",
   "metadata": {},
   "source": [
    "**Gráfica Precio del petróleo WTI,Brent y MME**."
   ]
  },
  {
   "cell_type": "code",
   "execution_count": null,
   "metadata": {},
   "outputs": [],
   "source": [
    "plt.figure(figsize=[15,8])\n",
    "plt.style.use('bmh')\n",
    "\n",
    "plt.plot(WTI, '-' , color = 'red')\n",
    "plt.plot(BRENT, '-' , color = 'blue' )\n",
    "plt.plot(MME, '-' , color = 'green' )\n",
    "plt.grid(color='k', alpha=0.3,linestyle='--')\n",
    "\n",
    "plt.xlabel('Años', color='k', fontsize='x-large')\n",
    "\n",
    "plt.ylabel('USD/Bbl', fontsize='x-large', color='k')\n",
    "\n",
    "plt.title('Promedio Mensual Precio del Petróleo WTI,BRENT y Mezcla Mexicana', fontsize='x-large', color='black')\n",
    "plt.xticks( [0,12,24,36,48,60,72,84,96,108,120,132,144],\n",
    "           ['2005','2006','2007','2008','2009','2010','2011','2012','2013','2014','2015','2016','2017'], \n",
    "               rotation=60, color='k')\n",
    "plt.yticks( [0,20,40,60,80,100,120,140],\n",
    "           ['0', '20', '40', '60', '80' , '100', '120', '140',], rotation=20, color='k')\n",
    "plt.ylim(0,140)\n",
    "plt.xlim(0,144)\n",
    "plt.legend()"
   ]
  }
 ],
 "metadata": {
  "kernelspec": {
   "display_name": "Python 3",
   "language": "python",
   "name": "python3"
  },
  "language_info": {
   "codemirror_mode": {
    "name": "ipython",
    "version": 3
   },
   "file_extension": ".py",
   "mimetype": "text/x-python",
   "name": "python",
   "nbconvert_exporter": "python",
   "pygments_lexer": "ipython3",
   "version": "3.6.4"
  }
 },
 "nbformat": 4,
 "nbformat_minor": 2
}
